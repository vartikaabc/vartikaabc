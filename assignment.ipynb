{
  "nbformat": 4,
  "nbformat_minor": 0,
  "metadata": {
    "colab": {
      "provenance": [],
      "authorship_tag": "ABX9TyPMGApYztjSKQN34L43RcMa",
      "include_colab_link": true
    },
    "kernelspec": {
      "name": "python3",
      "display_name": "Python 3"
    },
    "language_info": {
      "name": "python"
    }
  },
  "cells": [
    {
      "cell_type": "markdown",
      "metadata": {
        "id": "view-in-github",
        "colab_type": "text"
      },
      "source": [
        "<a href=\"https://colab.research.google.com/github/vartikaabc/vartikaabc/blob/main/assignment.ipynb\" target=\"_parent\"><img src=\"https://colab.research.google.com/assets/colab-badge.svg\" alt=\"Open In Colab\"/></a>"
      ]
    },
    {
      "cell_type": "code",
      "source": [
        "!pip install requests beautifulsoup4 pandas\n"
      ],
      "metadata": {
        "colab": {
          "base_uri": "https://localhost:8080/"
        },
        "id": "gCHmZWlJhapw",
        "outputId": "efc1bc2e-821e-4333-aaf1-785aa588583c"
      },
      "execution_count": 29,
      "outputs": [
        {
          "output_type": "stream",
          "name": "stdout",
          "text": [
            "Requirement already satisfied: requests in /usr/local/lib/python3.10/dist-packages (2.31.0)\n",
            "Requirement already satisfied: beautifulsoup4 in /usr/local/lib/python3.10/dist-packages (4.11.2)\n",
            "Requirement already satisfied: pandas in /usr/local/lib/python3.10/dist-packages (1.5.3)\n",
            "Requirement already satisfied: charset-normalizer<4,>=2 in /usr/local/lib/python3.10/dist-packages (from requests) (3.2.0)\n",
            "Requirement already satisfied: idna<4,>=2.5 in /usr/local/lib/python3.10/dist-packages (from requests) (3.4)\n",
            "Requirement already satisfied: urllib3<3,>=1.21.1 in /usr/local/lib/python3.10/dist-packages (from requests) (1.26.16)\n",
            "Requirement already satisfied: certifi>=2017.4.17 in /usr/local/lib/python3.10/dist-packages (from requests) (2023.7.22)\n",
            "Requirement already satisfied: soupsieve>1.2 in /usr/local/lib/python3.10/dist-packages (from beautifulsoup4) (2.4.1)\n",
            "Requirement already satisfied: python-dateutil>=2.8.1 in /usr/local/lib/python3.10/dist-packages (from pandas) (2.8.2)\n",
            "Requirement already satisfied: pytz>=2020.1 in /usr/local/lib/python3.10/dist-packages (from pandas) (2023.3)\n",
            "Requirement already satisfied: numpy>=1.21.0 in /usr/local/lib/python3.10/dist-packages (from pandas) (1.23.5)\n",
            "Requirement already satisfied: six>=1.5 in /usr/local/lib/python3.10/dist-packages (from python-dateutil>=2.8.1->pandas) (1.16.0)\n"
          ]
        }
      ]
    },
    {
      "cell_type": "code",
      "source": [
        "import requests\n",
        "from bs4 import BeautifulSoup\n",
        "import pandas as pd\n"
      ],
      "metadata": {
        "id": "WGfXaRwmhckI"
      },
      "execution_count": 30,
      "outputs": []
    },
    {
      "cell_type": "code",
      "source": [
        "# List of sources with their names and URLs\n",
        "sources = [\n",
        "    {\"name\": \"China Bidding\", \"url\": \"https://www.chinabidding.com/en\"},\n",
        "    {\"name\": \"GGZY\", \"url\": \"http://www.ggzy.gov.cn/\"},\n",
        "    {\"name\": \"China Bidding MOFCOM\", \"url\": \"http://en.chinabidding.mofcom.gov.cn/\"},\n",
        "    {\"name\": \"CPPPC\", \"url\": \"https://www.cpppc.org/en/PPPyd.jhtml\"},\n",
        "    {\"name\": \"CPPPC 8082\", \"url\": \"https://www.cpppc.org:8082/inforpublic/homepage.html#/searchresult\"},\n",
        "]\n",
        "\n",
        "def scrape_tenders(url):\n",
        "    response = requests.get(url)\n",
        "    soup = BeautifulSoup(response.content, \"html.parser\")\n",
        "\n",
        "    tender_titles = []\n",
        "    tender_elements = soup.find_all(\"h4\", class_=\"title\")\n",
        "    for tender in tender_elements:\n",
        "        tender_titles.append(tender.text.strip())\n",
        "\n",
        "    return tender_titles\n"
      ],
      "metadata": {
        "id": "16ejnzybhcnJ"
      },
      "execution_count": 31,
      "outputs": []
    },
    {
      "cell_type": "code",
      "source": [
        "# Initialize an empty list to store scraped data\n",
        "scraped_data = []\n",
        "# Choose the source you want to scrape data from\n",
        "source_to_scrape = \"China Bidding\"\n",
        "\n",
        "# Find the URL corresponding to the chosen source\n",
        "chosen_source = next((source for source in sources if source[\"name\"] == source_to_scrape), None)\n",
        "\n",
        "# Check if the chosen source exists in the sources list\n",
        "if chosen_source:\n",
        "    chosen_name = chosen_source[\"name\"]\n",
        "    chosen_url = chosen_source[\"url\"]\n",
        "\n",
        "    # Scrape data from the chosen source's URL\n",
        "    scraped_data = scrape_tenders(chosen_url)\n",
        "\n",
        "    # Create a DataFrame from the scraped data\n",
        "    df = pd.DataFrame({\"Source\": [chosen_name] * len(scraped_data), \"Tender Title\": scraped_data})\n",
        "\n",
        "    # Export DataFrame to a CSV file\n",
        "    df.to_csv(f\"tender_data_{chosen_name}.csv\", index=False)\n",
        "else:\n",
        "    print(\"Chosen source not found in the sources list.\")\n",
        "\n",
        "# Loop through each source and scrape tender titles\n",
        "for source in sources:\n",
        "    source_name = source[\"name\"]\n",
        "    url = source[\"url\"]\n",
        "\n",
        "    tender_titles = scrape_tenders(url)\n",
        "\n",
        "    # Append scraped data to the list\n",
        "    scraped_data.extend([{\"Source\": source_name, \"Tender Title\": title} for title in tender_titles])\n",
        "\n",
        "# Create a DataFrame from the scraped data\n",
        "df = pd.DataFrame(scraped_data)\n"
      ],
      "metadata": {
        "id": "ByNkIye1hcqP"
      },
      "execution_count": 34,
      "outputs": []
    },
    {
      "cell_type": "code",
      "source": [
        "# Export DataFrame to a CSV file\n",
        "df.to_csv(\"tender_data.csv\", index=False)\n"
      ],
      "metadata": {
        "id": "B76KHhlYhctG"
      },
      "execution_count": 35,
      "outputs": []
    },
    {
      "cell_type": "code",
      "source": [
        "from google.colab import files\n",
        "files.download(\"tender_data.csv\")\n"
      ],
      "metadata": {
        "colab": {
          "base_uri": "https://localhost:8080/",
          "height": 17
        },
        "id": "MblzTh8Khcv9",
        "outputId": "7939ea0c-2ac7-4871-c249-4fe7ca316b50"
      },
      "execution_count": 36,
      "outputs": [
        {
          "output_type": "display_data",
          "data": {
            "text/plain": [
              "<IPython.core.display.Javascript object>"
            ],
            "application/javascript": [
              "\n",
              "    async function download(id, filename, size) {\n",
              "      if (!google.colab.kernel.accessAllowed) {\n",
              "        return;\n",
              "      }\n",
              "      const div = document.createElement('div');\n",
              "      const label = document.createElement('label');\n",
              "      label.textContent = `Downloading \"${filename}\": `;\n",
              "      div.appendChild(label);\n",
              "      const progress = document.createElement('progress');\n",
              "      progress.max = size;\n",
              "      div.appendChild(progress);\n",
              "      document.body.appendChild(div);\n",
              "\n",
              "      const buffers = [];\n",
              "      let downloaded = 0;\n",
              "\n",
              "      const channel = await google.colab.kernel.comms.open(id);\n",
              "      // Send a message to notify the kernel that we're ready.\n",
              "      channel.send({})\n",
              "\n",
              "      for await (const message of channel.messages) {\n",
              "        // Send a message to notify the kernel that we're ready.\n",
              "        channel.send({})\n",
              "        if (message.buffers) {\n",
              "          for (const buffer of message.buffers) {\n",
              "            buffers.push(buffer);\n",
              "            downloaded += buffer.byteLength;\n",
              "            progress.value = downloaded;\n",
              "          }\n",
              "        }\n",
              "      }\n",
              "      const blob = new Blob(buffers, {type: 'application/binary'});\n",
              "      const a = document.createElement('a');\n",
              "      a.href = window.URL.createObjectURL(blob);\n",
              "      a.download = filename;\n",
              "      div.appendChild(a);\n",
              "      a.click();\n",
              "      div.remove();\n",
              "    }\n",
              "  "
            ]
          },
          "metadata": {}
        },
        {
          "output_type": "display_data",
          "data": {
            "text/plain": [
              "<IPython.core.display.Javascript object>"
            ],
            "application/javascript": [
              "download(\"download_4cab200f-9f13-48b8-9b6d-bb2f91d1a89f\", \"tender_data.csv\", 1)"
            ]
          },
          "metadata": {}
        }
      ]
    },
    {
      "cell_type": "code",
      "source": [],
      "metadata": {
        "id": "48x5KV09hcyz"
      },
      "execution_count": null,
      "outputs": []
    },
    {
      "cell_type": "code",
      "source": [],
      "metadata": {
        "id": "cWeJ3L7Xhc1n"
      },
      "execution_count": null,
      "outputs": []
    },
    {
      "cell_type": "code",
      "source": [],
      "metadata": {
        "id": "RRebsKBHhc5E"
      },
      "execution_count": null,
      "outputs": []
    }
  ]
}